{
 "cells": [
  {
   "cell_type": "markdown",
   "metadata": {},
   "source": [
    "### 1.\tWrite a Python Program to find sum of array?"
   ]
  },
  {
   "cell_type": "code",
   "execution_count": 2,
   "metadata": {},
   "outputs": [
    {
     "name": "stdout",
     "output_type": "stream",
     "text": [
      "Enter the size of the array: 5\n",
      "Enter array elements: \n",
      "1\n",
      "2\n",
      "3\n",
      "4\n",
      "5\n",
      "Sum: 15\n"
     ]
    }
   ],
   "source": [
    "list = []\n",
    "num = int(input(\"Enter the size of the array: \"))\n",
    "print(\"Enter array elements: \")\n",
    "for n in range(num):\n",
    "  numbers = int(input())\n",
    "  list.append(numbers)\n",
    "print(\"Sum:\", sum(list))"
   ]
  },
  {
   "cell_type": "code",
   "execution_count": 2,
   "metadata": {},
   "outputs": [
    {
     "name": "stdout",
     "output_type": "stream",
     "text": [
      "Sum of the array is  34\n"
     ]
    }
   ],
   "source": [
    "arr = [12, 3, 4, 15] \n",
    "  \n",
    "  \n",
    "op = sum(arr) \n",
    "print ('Sum of the array is ', op) "
   ]
  },
  {
   "cell_type": "markdown",
   "metadata": {},
   "source": [
    "### 2.\tWrite a Python Program to find largest element in an array?"
   ]
  },
  {
   "cell_type": "code",
   "execution_count": 3,
   "metadata": {},
   "outputs": [
    {
     "name": "stdout",
     "output_type": "stream",
     "text": [
      "Largest in given array is 97\n"
     ]
    }
   ],
   "source": [
    "def largest(arr,n):\n",
    "  \n",
    "    max = arr[0]\n",
    "    for i in range(1, n):\n",
    "        if arr[i] > max:\n",
    "            max = arr[i]\n",
    "    return max\n",
    "\n",
    "arr = [10, 24, 45, 90, 97]\n",
    "n = len(arr)\n",
    "Ans = largest(arr,n)\n",
    "print (\"Largest in given array is\",Ans)"
   ]
  },
  {
   "cell_type": "markdown",
   "metadata": {},
   "source": [
    "#### 2nd method-- Write a Python Program to find largest element in an array/list\n"
   ]
  },
  {
   "cell_type": "code",
   "execution_count": 12,
   "metadata": {},
   "outputs": [
    {
     "name": "stdout",
     "output_type": "stream",
     "text": [
      "Largest element present in given array:  75\n"
     ]
    }
   ],
   "source": [
    "list = [25, 11, 7, 75, 56]        \n",
    "max = list[0]   \n",
    "    \n",
    "for i in range(0, len(list)):\n",
    "    if(list[i] > max):    \n",
    "       max = list[i]    \n",
    "           \n",
    "print(\"Largest element present in given array: \", max)"
   ]
  },
  {
   "cell_type": "code",
   "execution_count": 17,
   "metadata": {},
   "outputs": [
    {
     "name": "stdout",
     "output_type": "stream",
     "text": [
      "Original array: \n",
      "1\n",
      "2\n",
      "3\n",
      "4\n",
      "5\n",
      "\n",
      "Array after left rotation: \n",
      "4\n",
      "5\n",
      "1\n",
      "2\n",
      "3\n"
     ]
    }
   ],
   "source": [
    "arr = [1, 2, 3, 4, 5]     \n",
    "    \n",
    "n = 3   \n",
    "#n is the number of times of rotation of array        \n",
    "print(\"Original array: \")   \n",
    "for i in range(0, len(arr)):    \n",
    "    print(arr[i])     \n",
    "     \n",
    "    \n",
    "for i in range(0, n):\n",
    "    first = arr[0]\n",
    "    for j in range(0, len(arr)-1):    \n",
    "        #Shift element of array by one    \n",
    "        arr[j] = arr[j+1]    \n",
    "            \n",
    "    #First element of array is going to the end    \n",
    "    arr[len(arr)-1] = first    \n",
    "     \n",
    "print()    \n",
    "     \n",
    "#Displays resulting array after rotation    \n",
    "print(\"Array after left rotation: \")    \n",
    "for i in range(0, len(arr)):    \n",
    "    print(arr[i])    "
   ]
  },
  {
   "cell_type": "markdown",
   "metadata": {},
   "source": [
    "### 4.\tWrite a Python Program to Split the array and add the first part to the end"
   ]
  },
  {
   "cell_type": "code",
   "execution_count": 20,
   "metadata": {},
   "outputs": [
    {
     "name": "stdout",
     "output_type": "stream",
     "text": [
      "2 3 4 5 6 1 "
     ]
    }
   ],
   "source": [
    "def splitAr(arr, n, k): \n",
    "    for i in range(0, k): \n",
    "        x = arr[0]\n",
    "        for j in range(0, n-1):\n",
    "            arr[j] = arr[j + 1]\n",
    "         \n",
    "        arr[n-1] = x\n",
    "         \n",
    "arr = [1, 2, 3, 4, 5, 6]\n",
    "n = len(arr)\n",
    "index = 1\n",
    " \n",
    "splitAr(arr, n, index)\n",
    " \n",
    "for i in range(0, n): \n",
    "    print(arr[i], end = ' ')"
   ]
  },
  {
   "cell_type": "markdown",
   "metadata": {},
   "source": [
    "### 5.\tWrite a Python Program to check if given array is Monotonic"
   ]
  },
  {
   "cell_type": "code",
   "execution_count": 21,
   "metadata": {},
   "outputs": [
    {
     "name": "stdout",
     "output_type": "stream",
     "text": [
      "True\n"
     ]
    }
   ],
   "source": [
    "## An array is called monotonic if its adjacent numbers are either increasing or decreasing.\n",
    "## Monotonic arrays are divided into two categories: monotone increasing and monotone decreasing.\n",
    "\n",
    "def isMonotonic(A):\n",
    "   return (all(A[i] <= A[i + 1] for i in range(len(A) - 1)) or\n",
    "      all(A[i] >= A[i + 1] for i in range(len(A) - 1)))\n",
    "# list element\n",
    "A = [1,2,3,4,7,8]\n",
    "print(isMonotonic(A))"
   ]
  },
  {
   "cell_type": "code",
   "execution_count": null,
   "metadata": {},
   "outputs": [],
   "source": []
  }
 ],
 "metadata": {
  "kernelspec": {
   "display_name": "Python 3",
   "language": "python",
   "name": "python3"
  },
  "language_info": {
   "codemirror_mode": {
    "name": "ipython",
    "version": 3
   },
   "file_extension": ".py",
   "mimetype": "text/x-python",
   "name": "python",
   "nbconvert_exporter": "python",
   "pygments_lexer": "ipython3",
   "version": "3.8.5"
  }
 },
 "nbformat": 4,
 "nbformat_minor": 4
}
